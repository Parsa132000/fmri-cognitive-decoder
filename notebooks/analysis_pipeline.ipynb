{
 "cells": [
  {
   "cell_type": "markdown",
   "metadata": {},
   "source": [
    "# 🧠 fMRI Cognitive State Classifier Pipeline\n",
    "This notebook demonstrates end-to-end analysis of the Haxby fMRI dataset using PCA and machine learning classification."
   ]
  },
  {
   "cell_type": "code",
   "execution_count": null,
   "metadata": {},
   "outputs": [],
   "source": [
    "# Step 1: Imports\n",
    "from src.preprocess import load_and_preprocess_data\n",
    "from src.model import BrainNet\n",
    "from src.train import create_dataloaders, train_model\n",
    "from src.visualize import plot_confusion, print_classification_report, show_pca_brain_map\n",
    "from sklearn.decomposition import PCA\n",
    "from sklearn.model_selection import train_test_split\n",
    "from sklearn.preprocessing import LabelEncoder\n",
    "import torch\n"
   ]
  },
  {
   "cell_type": "code",
   "execution_count": null,
   "metadata": {},
   "outputs": [],
   "source": [
    "# Step 2: Load and preprocess data\n",
    "X, y, masker = load_and_preprocess_data()"
   ]
  },
  {
   "cell_type": "code",
   "execution_count": null,
   "metadata": {},
   "outputs": [],
   "source": [
    "# Step 3: Dimensionality Reduction with PCA\n",
    "pca = PCA(n_components=100)\n",
    "X_reduced = pca.fit_transform(X)"
   ]
  },
  {
   "cell_type": "code",
   "execution_count": null,
   "metadata": {},
   "outputs": [],
   "source": [
    "# Step 4: Prepare train/test split\n",
    "le = LabelEncoder()\n",
    "y_enc = le.fit_transform(y)\n",
    "X_train, X_test, y_train, y_test = train_test_split(X_reduced, y_enc, test_size=0.2, random_state=42)"
   ]
  },
  {
   "cell_type": "code",
   "execution_count": null,
   "metadata": {},
   "outputs": [],
   "source": [
    "# Step 5: Train Deep Learning Model\n",
    "model = BrainNet(input_dim=100, num_classes=len(le.classes_))\n",
    "train_loader, val_loader = create_dataloaders(X_train, y_train, X_test, y_test)\n",
    "trained_model = train_model(model, train_loader, val_loader)"
   ]
  },
  {
   "cell_type": "code",
   "execution_count": null,
   "metadata": {},
   "outputs": [],
   "source": [
    "# Step 6: Evaluate Model\n",
    "trained_model.eval()\n",
    "y_preds, y_true = [], []\n",
    "with torch.no_grad():\n",
    "    for X_batch, y_batch in val_loader:\n",
    "        outputs = trained_model(X_batch)\n",
    "        _, preds = torch.max(outputs, 1)\n",
    "        y_preds.extend(preds.numpy())\n",
    "        y_true.extend(y_batch.numpy())\n",
    "plot_confusion(y_true, y_preds, class_labels=list(range(len(le.classes_))))\n",
    "print_classification_report(y_true, y_preds, le.classes_)"
   ]
  },
  {
   "cell_type": "code",
   "execution_count": null,
   "metadata": {},
   "outputs": [],
   "source": [
    "# Step 7: Visualize a PCA Brain Map\n",
    "show_pca_brain_map(pca.components_, masker, component_idx=0)"
   ]
  }
 ],
 "metadata": {
  "kernelspec": {
   "display_name": "Python 3",
   "language": "python",
   "name": "python3"
  },
  "language_info": {
   "name": "python",
   "version": ""
  }
 },
 "nbformat": 4,
 "nbformat_minor": 2
}
